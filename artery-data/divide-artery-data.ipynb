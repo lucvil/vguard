{
 "cells": [
  {
   "cell_type": "code",
   "execution_count": 2,
   "metadata": {},
   "outputs": [
    {
     "name": "stdout",
     "output_type": "stream",
     "text": [
      "Data successfully written to ./output_0.json and ./output_1.json\n"
     ]
    }
   ],
   "source": [
    "import json\n",
    "\n",
    "def fetch_and_split_data(input_file_path, output_file_0, output_file_1):\n",
    "    # JSONファイルを読み込む\n",
    "    try:\n",
    "        with open(input_file_path, 'r') as file:\n",
    "            data = json.load(file)\n",
    "    except FileNotFoundError:\n",
    "        print(f\"Error: File not found - {input_file_path}\")\n",
    "        return\n",
    "    except json.JSONDecodeError as e:\n",
    "        print(f\"Error decoding JSON: {e}\")\n",
    "        return\n",
    "\n",
    "    # 0と1に対応するデータを分割\n",
    "    data_0 = {}\n",
    "    data_1 = {}\n",
    "\n",
    "    for time_key, inner_map in data.items():\n",
    "        if \"0\" in inner_map:\n",
    "            data_0[time_key] = inner_map[\"0\"]\n",
    "        if \"1\" in inner_map:\n",
    "            data_1[time_key] = inner_map[\"1\"]\n",
    "\n",
    "    # 分割したデータを別々のファイルに書き込む\n",
    "    try:\n",
    "        with open(output_file_0, 'w') as file_0:\n",
    "            json.dump(data_0, file_0, indent=4)\n",
    "        with open(output_file_1, 'w') as file_1:\n",
    "            json.dump(data_1, file_1, indent=4)\n",
    "        print(f\"Data successfully written to {output_file_0} and {output_file_1}\")\n",
    "    except Exception as e:\n",
    "        print(f\"Error writing JSON to file: {e}\")\n",
    "\n",
    "# 使用例\n",
    "input_file_path = './data.json'\n",
    "output_file_0 = './output_0.json'\n",
    "output_file_1 = './output_1.json'\n",
    "\n",
    "fetch_and_split_data(input_file_path, output_file_0, output_file_1)\n"
   ]
  }
 ],
 "metadata": {
  "kernelspec": {
   "display_name": "3.11.4",
   "language": "python",
   "name": "python3"
  },
  "language_info": {
   "codemirror_mode": {
    "name": "ipython",
    "version": 3
   },
   "file_extension": ".py",
   "mimetype": "text/x-python",
   "name": "python",
   "nbconvert_exporter": "python",
   "pygments_lexer": "ipython3",
   "version": "3.11.4"
  }
 },
 "nbformat": 4,
 "nbformat_minor": 2
}
