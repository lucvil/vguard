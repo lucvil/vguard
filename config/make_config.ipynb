{
 "cells": [
  {
   "cell_type": "markdown",
   "metadata": {},
   "source": [
    "bypass routeを設定したあとのconfigを作成するコード"
   ]
  },
  {
   "cell_type": "code",
   "execution_count": 2,
   "metadata": {},
   "outputs": [
    {
     "name": "stdout",
     "output_type": "stream",
     "text": [
      "ファイルの生成が完了しました: cluster_localhost.conf\n"
     ]
    }
   ],
   "source": [
    "# 設定する変数\n",
    "PROPOSER_NUM = 3\n",
    "VALIDATOR_NUM = 250\n",
    "ID_COUNT = PROPOSER_NUM + VALIDATOR_NUM  # IDの数\n",
    "START_PORT = 10000  # 最初のポート番号\n",
    "PORTS_PER_ROW = 10  # 1行あたりのポート番号の数\n",
    "\n",
    "# 出力ファイル\n",
    "output_file = \"cluster_localhost.conf\"\n",
    "\n",
    "# ファイルに書き出す\n",
    "with open(output_file, 'w') as f:\n",
    "    f.write(\"#\\n\")\n",
    "    for id in range(ID_COUNT):\n",
    "        # 各IDに対して行を生成\n",
    "        for row in range(PROPOSER_NUM):\n",
    "            ports = []\n",
    "            # PORTS_PER_ROW個のポート番号を生成\n",
    "            for i in range(PORTS_PER_ROW):\n",
    "                ports.append(str(START_PORT + i))\n",
    "\n",
    "            # 行のポート番号生成後に一の位を0にリセットする\n",
    "            START_PORT = ((START_PORT + PORTS_PER_ROW - 1) // 10 + 1) * 10\n",
    "\n",
    "            # 生成した行をファイルに書き込む\n",
    "            f.write(f\"{id} 127.0.0.1 vg {' '.join(ports)}\\n\")\n",
    "\n",
    "print(f\"ファイルの生成が完了しました: {output_file}\")\n"
   ]
  }
 ],
 "metadata": {
  "kernelspec": {
   "display_name": "3.11.4",
   "language": "python",
   "name": "python3"
  },
  "language_info": {
   "codemirror_mode": {
    "name": "ipython",
    "version": 3
   },
   "file_extension": ".py",
   "mimetype": "text/x-python",
   "name": "python",
   "nbconvert_exporter": "python",
   "pygments_lexer": "ipython3",
   "version": "3.11.4"
  }
 },
 "nbformat": 4,
 "nbformat_minor": 2
}
